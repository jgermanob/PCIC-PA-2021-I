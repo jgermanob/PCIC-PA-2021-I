{
 "cells": [
  {
   "cell_type": "code",
   "execution_count": 3,
   "metadata": {},
   "outputs": [],
   "source": [
    "# Standard scientific Python imports\n",
    "import matplotlib.pyplot as plt\n",
    "import time\n",
    "\n",
    "# Import datasets, classifiers and performance metrics\n",
    "import sklearn.linear_model as skl\n",
    "from sklearn.model_selection import train_test_split\n",
    "from sklearn import datasets, metrics\n",
    "from hklearn import LogisticRegression"
   ]
  },
  {
   "cell_type": "code",
   "execution_count": 4,
   "metadata": {},
   "outputs": [
    {
     "data": {
      "image/png": "[encoded data removed]",
      "text/plain": [
       "<Figure size 720x216 with 4 Axes>"
      ]
     },
     "metadata": {
      "needs_background": "light"
     },
     "output_type": "display_data"
    }
   ],
   "source": [
    "digits = datasets.load_digits()\n",
    "\n",
    "_, axes = plt.subplots(nrows=1, ncols=4, figsize=(10, 3))\n",
    "for ax, image, label in zip(axes, digits.images, digits.target):\n",
    "    ax.set_axis_off()\n",
    "    ax.imshow(image, cmap=plt.cm.gray_r, interpolation='nearest')\n",
    "    ax.set_title('Training: %i' % label)\n"
   ]
  },
  {
   "cell_type": "code",
   "execution_count": 5,
   "metadata": {},
   "outputs": [
    {
     "name": "stdout",
     "output_type": "stream",
     "text": [
      "2.5190975666046143\n",
      "0.2870035171508789\n"
     ]
    },
    {
     "name": "stderr",
     "output_type": "stream",
     "text": [
      "C:\\ProgramData\\Anaconda3\\lib\\site-packages\\sklearn\\linear_model\\_logistic.py:762: ConvergenceWarning: lbfgs failed to converge (status=1):\n",
      "STOP: TOTAL NO. of ITERATIONS REACHED LIMIT.\n",
      "\n",
      "Increase the number of iterations (max_iter) or scale the data as shown in:\n",
      "    https://scikit-learn.org/stable/modules/preprocessing.html\n",
      "Please also refer to the documentation for alternative solver options:\n",
      "    https://scikit-learn.org/stable/modules/linear_model.html#logistic-regression\n",
      "  n_iter_i = _check_optimize_result(\n"
     ]
    }
   ],
   "source": [
    "# flatten the images\n",
    "n_samples = len(digits.images)\n",
    "data = digits.images.reshape((n_samples, -1))\n",
    "\n",
    "# Create a classifier: a logistic classifier\n",
    "clf = skl.LogisticRegression(C = 0.01, n_jobs = 2)\n",
    "clf2 = skl.LogisticRegression(C = 0.01)\n",
    "# Split data into 50% train and 50% test subsets\n",
    "X_train, X_test, y_train, y_test = train_test_split(\n",
    "    data, digits.target, test_size=.8, shuffle=False)\n",
    "\n",
    "\n",
    "\n",
    "# Learn the digits on the train subset\n",
    "start_time = time.time()\n",
    "clf.fit(X_train, y_train)\n",
    "print(time.time() - start_time)\n",
    "start_time = time.time()\n",
    "clf2.fit(X_train, y_train)\n",
    "print(time.time() - start_time)\n",
    "# Predict the value of the digit on the test subset\n",
    "predicted = clf.predict(X_test)"
   ]
  },
  {
   "cell_type": "code",
   "execution_count": 6,
   "metadata": {},
   "outputs": [
    {
     "data": {
      "image/png": "[encoded data removed]",
      "text/plain": [
       "<Figure size 720x216 with 4 Axes>"
      ]
     },
     "metadata": {
      "needs_background": "light"
     },
     "output_type": "display_data"
    }
   ],
   "source": [
    "_, axes = plt.subplots(nrows=1, ncols=4, figsize=(10, 3))\n",
    "for ax, image, prediction in zip(axes, digits.images, predicted):\n",
    "    ax.set_axis_off()\n",
    "    ax.imshow(image, cmap=plt.cm.gray_r, interpolation='nearest')\n",
    "    ax.set_title(f'Prediction: {prediction}')"
   ]
  },
  {
   "cell_type": "code",
   "execution_count": 7,
   "metadata": {},
   "outputs": [
    {
     "name": "stdout",
     "output_type": "stream",
     "text": [
      "Classification report for classifier LogisticRegression(C=0.01, n_jobs=2):\n",
      "              precision    recall  f1-score   support\n",
      "\n",
      "           0       0.95      0.99      0.97       140\n",
      "           1       0.90      0.67      0.76       144\n",
      "           2       0.90      0.91      0.90       141\n",
      "           3       0.96      0.81      0.88       145\n",
      "           4       0.93      0.94      0.94       147\n",
      "           5       0.87      0.90      0.89       146\n",
      "           6       0.92      0.97      0.95       145\n",
      "           7       0.96      0.88      0.92       144\n",
      "           8       0.80      0.80      0.80       140\n",
      "           9       0.66      0.90      0.76       146\n",
      "\n",
      "    accuracy                           0.88      1438\n",
      "   macro avg       0.89      0.88      0.88      1438\n",
      "weighted avg       0.89      0.88      0.88      1438\n",
      "\n",
      "\n"
     ]
    }
   ],
   "source": [
    "print(f\"Classification report for classifier {clf}:\\n\"\n",
    "      f\"{metrics.classification_report(y_test, predicted)}\\n\")"
   ]
  },
  {
   "cell_type": "code",
   "execution_count": 8,
   "metadata": {},
   "outputs": [
    {
     "name": "stdout",
     "output_type": "stream",
     "text": [
      "Confusion matrix:\n",
      "[[139   0   0   0   1   0   0   0   0   0]\n",
      " [  0  96   7   1   1   5   9   0  16   9]\n",
      " [  1   0 128   4   0   0   0   0   0   8]\n",
      " [  1   0   4 117   0   3   0   1   5  14]\n",
      " [  1   0   0   0 138   0   0   4   0   4]\n",
      " [  1   0   0   0   3 132   1   0   0   9]\n",
      " [  2   1   0   0   0   0 141   0   1   0]\n",
      " [  0   0   0   0   0   5   0 126   3  10]\n",
      " [  0   6   3   0   0   4   2   0 112  13]\n",
      " [  1   4   0   0   5   2   0   0   3 131]]\n"
     ]
    },
    {
     "data": {
      "image/png": "[encoded data removed]",
      "text/plain": [
       "<Figure size 432x288 with 2 Axes>"
      ]
     },
     "metadata": {
      "needs_background": "light"
     },
     "output_type": "display_data"
    }
   ],
   "source": [
    "disp = metrics.plot_confusion_matrix(clf, X_test, y_test)\n",
    "disp.figure_.suptitle(\"Confusion Matrix\")\n",
    "print(f\"Confusion matrix:\\n{disp.confusion_matrix}\")\n",
    "\n",
    "plt.show()"
   ]
  },
  {
   "cell_type": "code",
   "execution_count": 19,
   "metadata": {},
   "outputs": [
    {
     "name": "stdout",
     "output_type": "stream",
     "text": [
      "Iter: Iter:  0 1\n",
      "Iter: \n",
      " 2\n",
      "Iter:  Iter: 3\n",
      " Iter:  4\n",
      "5\n",
      "Iter:  6\n",
      "Iter: Iter:  8 7\n",
      "\n"
     ]
    },
    {
     "name": "stderr",
     "output_type": "stream",
     "text": [
      "C:\\Users\\luis_\\Documents\\MCIC\\PrimerSemestre\\PA\\Proyecto\\hklearn.py:80: RuntimeWarning: divide by zero encountered in log\n",
      "  - np.matmul((1-y).transpose(),np.log(1-self.sigmoid(np.matmul(X,theta, dtype=np.float64))), dtype=np.float64))\n",
      "C:\\Users\\luis_\\Documents\\MCIC\\PrimerSemestre\\PA\\Proyecto\\hklearn.py:80: RuntimeWarning: invalid value encountered in matmul\n",
      "  - np.matmul((1-y).transpose(),np.log(1-self.sigmoid(np.matmul(X,theta, dtype=np.float64))), dtype=np.float64))\n"
     ]
    },
    {
     "name": "stdout",
     "output_type": "stream",
     "text": [
      "Iter:  9\n",
      "Optimization terminated successfully.\n",
      "         Current function value: 0.027750\n",
      "         Iterations: 170\n",
      "         Function evaluations: 321\n",
      "         Gradient evaluations: 321\n",
      "Optimization terminated successfully.\n",
      "         Current function value: 0.035319\n",
      "         Iterations: 181\n",
      "         Function evaluations: 361\n",
      "         Gradient evaluations: 361\n",
      "Optimization terminated successfully.\n",
      "         Current function value: 0.034711\n",
      "         Iterations: 243\n",
      "         Function evaluations: 488\n",
      "         Gradient evaluations: 488\n",
      "Optimization terminated successfully.\n",
      "         Current function value: 0.044508\n",
      "         Iterations: 249\n",
      "         Function evaluations: 491\n",
      "         Gradient evaluations: 491\n",
      "Optimization terminated successfully.\n",
      "         Current function value: 0.025527\n",
      "         Iterations: 357\n",
      "         Function evaluations: 686\n",
      "         Gradient evaluations: 686\n",
      "Optimization terminated successfully.\n",
      "         Current function value: 0.042352\n",
      "         Iterations: 283\n",
      "         Function evaluations: 547\n",
      "         Gradient evaluations: 547\n",
      "Optimization terminated successfully.\n",
      "         Current function value: 0.033452\n",
      "         Iterations: 317\n",
      "         Function evaluations: 605\n",
      "         Gradient evaluations: 605\n",
      "Warning: Maximum number of iterations has been exceeded.\n",
      "         Current function value: 0.057125\n",
      "         Iterations: 400\n",
      "         Function evaluations: 774\n",
      "         Gradient evaluations: 774\n",
      "Optimization terminated successfully.\n",
      "         Current function value: 0.055374\n",
      "         Iterations: 383\n",
      "         Function evaluations: 751\n",
      "         Gradient evaluations: 751\n",
      "Warning: Maximum number of iterations has been exceeded.\n",
      "         Current function value: 0.073861\n",
      "         Iterations: 400\n",
      "         Function evaluations: 803\n",
      "         Gradient evaluations: 800\n",
      "5.222574234008789\n"
     ]
    }
   ],
   "source": [
    "#Parallel regression threads = 2, threadpool\n",
    "model_p = LogisticRegression(C = 0.01, maxiter = 400, n_jobs = 10)\n",
    "start_time = time.time()\n",
    "model_p.fit(X_train, y_train)\n",
    "print(time.time() - start_time)"
   ]
  },
  {
   "cell_type": "code",
   "execution_count": 20,
   "metadata": {},
   "outputs": [
    {
     "name": "stdout",
     "output_type": "stream",
     "text": [
      "Optimization terminated successfully.\n",
      "         Current function value: 0.025527\n",
      "         Iterations: 357\n",
      "         Function evaluations: 686\n",
      "         Gradient evaluations: 686\n",
      "Warning: Maximum number of iterations has been exceeded.\n",
      "         Current function value: 0.057125\n",
      "         Iterations: 400\n",
      "         Function evaluations: 774\n",
      "         Gradient evaluations: 774\n",
      "Optimization terminated successfully.\n",
      "         Current function value: 0.042352\n",
      "         Iterations: 283\n",
      "         Function evaluations: 547\n",
      "         Gradient evaluations: 547\n",
      "Optimization terminated successfully.\n",
      "         Current function value: 0.033452\n",
      "         Iterations: 317\n",
      "         Function evaluations: 605\n",
      "         Gradient evaluations: 605\n",
      "Optimization terminated successfully.\n",
      "         Current function value: 0.035319\n",
      "         Iterations: 181\n",
      "         Function evaluations: 361\n",
      "         Gradient evaluations: 361\n",
      "Optimization terminated successfully.\n",
      "         Current function value: 0.044508\n",
      "         Iterations: 249\n",
      "         Function evaluations: 491\n",
      "         Gradient evaluations: 491\n"
     ]
    },
    {
     "name": "stderr",
     "output_type": "stream",
     "text": [
      "C:\\Users\\luis_\\Documents\\MCIC\\PrimerSemestre\\PA\\Proyecto\\hklearn.py:80: RuntimeWarning: divide by zero encountered in log\n",
      "  - np.matmul((1-y).transpose(),np.log(1-self.sigmoid(np.matmul(X,theta, dtype=np.float64))), dtype=np.float64))\n",
      "C:\\Users\\luis_\\Documents\\MCIC\\PrimerSemestre\\PA\\Proyecto\\hklearn.py:80: RuntimeWarning: invalid value encountered in matmul\n",
      "  - np.matmul((1-y).transpose(),np.log(1-self.sigmoid(np.matmul(X,theta, dtype=np.float64))), dtype=np.float64))\n"
     ]
    },
    {
     "name": "stdout",
     "output_type": "stream",
     "text": [
      "Optimization terminated successfully.\n",
      "         Current function value: 0.027750\n",
      "         Iterations: 170\n",
      "         Function evaluations: 321\n",
      "         Gradient evaluations: 321\n",
      "Optimization terminated successfully.\n",
      "         Current function value: 0.034711\n",
      "         Iterations: 243\n",
      "         Function evaluations: 488\n",
      "         Gradient evaluations: 488\n",
      "Warning: Maximum number of iterations has been exceeded.\n",
      "         Current function value: 0.073861\n",
      "         Iterations: 400\n",
      "         Function evaluations: 803\n",
      "         Gradient evaluations: 800\n",
      "Optimization terminated successfully.\n",
      "         Current function value: 0.055374\n",
      "         Iterations: 383\n",
      "         Function evaluations: 751\n",
      "         Gradient evaluations: 751\n",
      "4.668008089065552\n"
     ]
    }
   ],
   "source": [
    "#Run training serially (n_jobs = None)\n",
    "model_s = LogisticRegression(C = 0.01, maxiter = 400)\n",
    "start_time = time.time()\n",
    "model_s.fit(X_train, y_train)\n",
    "print(time.time() - start_time)"
   ]
  },
  {
   "cell_type": "code",
   "execution_count": 21,
   "metadata": {},
   "outputs": [
    {
     "name": "stdout",
     "output_type": "stream",
     "text": [
      "[[38  0  0  0  0  0  0  0  0  0]\n",
      " [ 0 38  0  0  0  0  0  0  0  0]\n",
      " [ 0  0 36  0  0  0  0  0  0  0]\n",
      " [ 0  0  0 38  0  0  0  0  0  0]\n",
      " [ 0  0  0  0 34  0  0  0  0  0]\n",
      " [ 0  0  0  0  0 35  0  0  0  1]\n",
      " [ 0  0  0  0  0  0 36  0  0  0]\n",
      " [ 0  0  0  0  0  0  0 35  0  0]\n",
      " [ 0  0  0  0  0  0  0  0 34  0]\n",
      " [ 0  0  0  0  0  0  0  0  0 34]]\n",
      "[[38  0  0  0  0  0  0  0  0  0]\n",
      " [ 0 38  0  0  0  0  0  0  0  0]\n",
      " [ 0  0 36  0  0  0  0  0  0  0]\n",
      " [ 0  0  0 38  0  0  0  0  0  0]\n",
      " [ 0  0  0  0 34  0  0  0  0  0]\n",
      " [ 0  0  0  0  0 35  0  0  0  1]\n",
      " [ 0  0  0  0  0  0 36  0  0  0]\n",
      " [ 0  0  0  0  0  0  0 35  0  0]\n",
      " [ 0  0  0  0  0  0  0  0 34  0]\n",
      " [ 0  0  0  0  0  0  0  0  0 34]]\n"
     ]
    }
   ],
   "source": [
    "y_pred_s = model_s.predict(X_train)\n",
    "print(metrics.confusion_matrix(y_train, y_pred_s))\n",
    "\n",
    "y_pred_p = model_p.predict(X_train)\n",
    "print(metrics.confusion_matrix(y_train, y_pred_p))\n",
    "#print(y_train)\n",
    "#print(y_pred)\n",
    "#disp.figure_.suptitle(\"Confusion Matrix\")\n",
    "#print(f\"Confusion matrix:\\n{disp.confusion_matrix}\")\n",
    "\n",
    "#plt.show()"
   ]
  },
  {
   "cell_type": "code",
   "execution_count": 22,
   "metadata": {},
   "outputs": [
    {
     "name": "stdout",
     "output_type": "stream",
     "text": [
      "Classification report for serial home made classifier :\n",
      "              precision    recall  f1-score   support\n",
      "\n",
      "           0       1.00      1.00      1.00        38\n",
      "           1       1.00      1.00      1.00        38\n",
      "           2       1.00      1.00      1.00        36\n",
      "           3       1.00      1.00      1.00        38\n",
      "           4       1.00      1.00      1.00        34\n",
      "           5       1.00      0.97      0.99        36\n",
      "           6       1.00      1.00      1.00        36\n",
      "           7       1.00      1.00      1.00        35\n",
      "           8       1.00      1.00      1.00        34\n",
      "           9       0.97      1.00      0.99        34\n",
      "\n",
      "    accuracy                           1.00       359\n",
      "   macro avg       1.00      1.00      1.00       359\n",
      "weighted avg       1.00      1.00      1.00       359\n",
      "\n",
      "\n"
     ]
    }
   ],
   "source": [
    "print(f\"Classification report for serial home made classifier :\\n\"\n",
    "      f\"{metrics.classification_report(y_train, y_pred_s)}\\n\")"
   ]
  },
  {
   "cell_type": "code",
   "execution_count": 23,
   "metadata": {},
   "outputs": [
    {
     "name": "stdout",
     "output_type": "stream",
     "text": [
      "Classification report for parallel home made classifier :\n",
      "              precision    recall  f1-score   support\n",
      "\n",
      "           0       1.00      1.00      1.00        38\n",
      "           1       1.00      1.00      1.00        38\n",
      "           2       1.00      1.00      1.00        36\n",
      "           3       1.00      1.00      1.00        38\n",
      "           4       1.00      1.00      1.00        34\n",
      "           5       1.00      0.97      0.99        36\n",
      "           6       1.00      1.00      1.00        36\n",
      "           7       1.00      1.00      1.00        35\n",
      "           8       1.00      1.00      1.00        34\n",
      "           9       0.97      1.00      0.99        34\n",
      "\n",
      "    accuracy                           1.00       359\n",
      "   macro avg       1.00      1.00      1.00       359\n",
      "weighted avg       1.00      1.00      1.00       359\n",
      "\n",
      "\n"
     ]
    }
   ],
   "source": [
    "print(f\"Classification report for parallel home made classifier :\\n\"\n",
    "      f\"{metrics.classification_report(y_train, y_pred_p)}\\n\")"
   ]
  },
  {
   "cell_type": "code",
   "execution_count": null,
   "metadata": {},
   "outputs": [],
   "source": []
  }
 ],
 "metadata": {
  "kernelspec": {
   "display_name": "Python 3",
   "language": "python",
   "name": "python3"
  },
  "language_info": {
   "codemirror_mode": {
    "name": "ipython",
    "version": 3
   },
   "file_extension": ".py",
   "mimetype": "text/x-python",
   "name": "python",
   "nbconvert_exporter": "python",
   "pygments_lexer": "ipython3",
   "version": "3.8.3"
  }
 },
 "nbformat": 4,
 "nbformat_minor": 4
}
