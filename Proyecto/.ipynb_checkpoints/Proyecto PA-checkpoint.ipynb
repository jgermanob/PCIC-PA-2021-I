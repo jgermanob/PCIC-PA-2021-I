{
 "cells": [
  {
   "cell_type": "code",
   "execution_count": 12,
   "metadata": {},
   "outputs": [],
   "source": [
    "# Standard scientific Python imports\n",
    "import matplotlib.pyplot as plt\n",
    "import time\n",
    "import numba\n",
    "# Import datasets, classifiers and performance metrics\n",
    "import sklearn.linear_model as skl\n",
    "from sklearn.model_selection import train_test_split\n",
    "from sklearn import datasets, metrics\n",
    "from hklearn import LogisticRegression"
   ]
  },
  {
   "cell_type": "code",
   "execution_count": 13,
   "metadata": {},
   "outputs": [
    {
     "data": {
      "image/png": "[encoded data removed]",
      "text/plain": [
       "<Figure size 720x216 with 4 Axes>"
      ]
     },
     "metadata": {
      "needs_background": "light"
     },
     "output_type": "display_data"
    }
   ],
   "source": [
    "digits = datasets.load_digits()\n",
    "\n",
    "_, axes = plt.subplots(nrows=1, ncols=4, figsize=(10, 3))\n",
    "for ax, image, label in zip(axes, digits.images, digits.target):\n",
    "    ax.set_axis_off()\n",
    "    ax.imshow(image, cmap=plt.cm.gray_r, interpolation='nearest')\n",
    "    ax.set_title('Training: %i' % label)\n"
   ]
  },
  {
   "cell_type": "code",
   "execution_count": 14,
   "metadata": {},
   "outputs": [
    {
     "name": "stdout",
     "output_type": "stream",
     "text": [
      "0.4367344379425049\n",
      "0.690021276473999\n",
      "(1438,)\n"
     ]
    }
   ],
   "source": [
    "# flatten the images\n",
    "n_samples = len(digits.images)\n",
    "data = digits.images.reshape((n_samples, -1))\n",
    "\n",
    "# Create a classifier: a logistic classifier\n",
    "clf = skl.LogisticRegression(C = 0.01, n_jobs = 4, max_iter = 200, multi_class = 'ovr') \n",
    "clf2 = skl.LogisticRegression(C = 0.01, max_iter = 200, multi_class = 'ovr')\n",
    "# Split data into 50% train and 50% test subsets\n",
    "X_train, X_test, y_train, y_test = train_test_split(\n",
    "    data, digits.target, test_size=.8, shuffle=False)\n",
    "\n",
    "\n",
    "\n",
    "# Learn the digits on the train subset\n",
    "start_time = time.time()\n",
    "#%timeit clf.fit(X_train, y_train)\n",
    "clf.fit(X_train, y_train)\n",
    "print(time.time() - start_time)\n",
    "start_time = time.time()\n",
    "#%timeit clf2.fit(X_train, y_train)\n",
    "clf2.fit(X_train, y_train)\n",
    "print(time.time() - start_time)\n",
    "# Predict the value of the digit on the test subset\n",
    "predicted = clf.predict(X_test)\n",
    "print(predicted.shape)"
   ]
  },
  {
   "cell_type": "code",
   "execution_count": 15,
   "metadata": {},
   "outputs": [
    {
     "data": {
      "image/png": "[encoded data removed]",
      "text/plain": [
       "<Figure size 720x216 with 4 Axes>"
      ]
     },
     "metadata": {
      "needs_background": "light"
     },
     "output_type": "display_data"
    }
   ],
   "source": [
    "_, axes = plt.subplots(nrows=1, ncols=4, figsize=(10, 3))\n",
    "for ax, image, prediction in zip(axes, digits.images, predicted):\n",
    "    ax.set_axis_off()\n",
    "    ax.imshow(image, cmap=plt.cm.gray_r, interpolation='nearest')\n",
    "    ax.set_title(f'Prediction: {prediction}')"
   ]
  },
  {
   "cell_type": "code",
   "execution_count": 16,
   "metadata": {},
   "outputs": [
    {
     "name": "stdout",
     "output_type": "stream",
     "text": [
      "Classification report for classifier LogisticRegression(C=0.01, max_iter=200, multi_class='ovr', n_jobs=4):\n",
      "              precision    recall  f1-score   support\n",
      "\n",
      "           0       0.94      0.99      0.97       140\n",
      "           1       0.90      0.63      0.74       144\n",
      "           2       0.90      0.91      0.91       141\n",
      "           3       0.95      0.82      0.88       145\n",
      "           4       0.94      0.93      0.93       147\n",
      "           5       0.86      0.90      0.88       146\n",
      "           6       0.92      0.97      0.94       145\n",
      "           7       0.97      0.88      0.92       144\n",
      "           8       0.77      0.78      0.77       140\n",
      "           9       0.67      0.90      0.77       146\n",
      "\n",
      "    accuracy                           0.87      1438\n",
      "   macro avg       0.88      0.87      0.87      1438\n",
      "weighted avg       0.88      0.87      0.87      1438\n",
      "\n",
      "\n"
     ]
    }
   ],
   "source": [
    "print(f\"Classification report for classifier {clf}:\\n\"\n",
    "      f\"{metrics.classification_report(y_test, predicted)}\\n\")"
   ]
  },
  {
   "cell_type": "code",
   "execution_count": 17,
   "metadata": {},
   "outputs": [
    {
     "name": "stdout",
     "output_type": "stream",
     "text": [
      "Confusion matrix:\n",
      "[[139   0   0   0   1   0   0   0   0   0]\n",
      " [  0  91   8   1   0   5   9   0  22   8]\n",
      " [  1   0 129   5   0   0   0   0   0   6]\n",
      " [  1   0   3 119   0   4   0   0   5  13]\n",
      " [  2   0   0   0 136   0   0   4   0   5]\n",
      " [  1   0   0   0   3 132   1   0   0   9]\n",
      " [  3   1   0   0   0   0 140   0   1   0]\n",
      " [  0   0   0   0   0   5   0 127   2  10]\n",
      " [  0   5   3   0   0   6   3   0 109  14]\n",
      " [  1   4   0   0   5   2   0   0   3 131]]\n"
     ]
    },
    {
     "data": {
      "image/png": "[encoded data removed]",
      "text/plain": [
       "<Figure size 432x288 with 2 Axes>"
      ]
     },
     "metadata": {
      "needs_background": "light"
     },
     "output_type": "display_data"
    }
   ],
   "source": [
    "disp = metrics.plot_confusion_matrix(clf, X_test, y_test)\n",
    "disp.figure_.suptitle(\"Confusion Matrix\")\n",
    "print(f\"Confusion matrix:\\n{disp.confusion_matrix}\")\n",
    "\n",
    "plt.show()"
   ]
  },
  {
   "cell_type": "code",
   "execution_count": 18,
   "metadata": {},
   "outputs": [
    {
     "name": "stdout",
     "output_type": "stream",
     "text": [
      "Iter:  0\n",
      "Iter:  Iter:  2\n",
      "1\n",
      "Iter:  3\n",
      "Iter:  Iter:  4\n",
      "Iter: 5\n",
      " 6\n",
      "Iter:  Iter: Iter:  8\n",
      " 9\n",
      "7\n",
      "0.49074602127075195\n"
     ]
    }
   ],
   "source": [
    "#Parallel regression threads = 2, threadpool\n",
    "model_p = LogisticRegression(C = 0.01, maxiter = 200, n_jobs = 4, solver = 'lbfgs')\n",
    "start_time = time.time()\n",
    "model_p.fit(X_train, y_train)\n",
    "print(time.time() - start_time)"
   ]
  },
  {
   "cell_type": "code",
   "execution_count": 19,
   "metadata": {},
   "outputs": [
    {
     "name": "stdout",
     "output_type": "stream",
     "text": [
      "0.4188041687011719\n"
     ]
    }
   ],
   "source": [
    "#Run training serially (n_jobs = None)\n",
    "model_s = LogisticRegression(C = 0.01, maxiter = 200, solver = 'lbfgs')\n",
    "start_time = time.time()\n",
    "model_s.fit(X_train, y_train)\n",
    "print(time.time() - start_time)"
   ]
  },
  {
   "cell_type": "code",
   "execution_count": 20,
   "metadata": {},
   "outputs": [
    {
     "name": "stdout",
     "output_type": "stream",
     "text": [
      "(1438,)\n",
      "[[139   0   0   0   1   0   0   0   0   0]\n",
      " [  0  91   8   1   0   5   9   0  22   8]\n",
      " [  1   0 129   5   0   0   0   0   0   6]\n",
      " [  1   0   3 119   0   4   0   0   5  13]\n",
      " [  2   0   0   0 136   0   0   4   0   5]\n",
      " [  1   0   0   0   3 132   1   0   0   9]\n",
      " [  3   1   0   0   0   0 140   0   1   0]\n",
      " [  0   0   0   0   0   5   0 127   2  10]\n",
      " [  0   5   3   0   0   6   3   0 109  14]\n",
      " [  1   4   0   0   5   2   0   0   3 131]]\n",
      "(1438,)\n",
      "[[139   0   0   0   1   0   0   0   0   0]\n",
      " [  0  91   8   1   0   5   9   0  22   8]\n",
      " [  1   0 129   5   0   0   0   0   0   6]\n",
      " [  1   0   3 119   0   4   0   0   5  13]\n",
      " [  2   0   0   0 136   0   0   4   0   5]\n",
      " [  1   0   0   0   3 132   1   0   0   9]\n",
      " [  3   1   0   0   0   0 140   0   1   0]\n",
      " [  0   0   0   0   0   5   0 127   2  10]\n",
      " [  0   5   3   0   0   6   3   0 109  14]\n",
      " [  1   4   0   0   5   2   0   0   3 131]]\n"
     ]
    }
   ],
   "source": [
    "y_pred_s = model_s.predict(X_test)\n",
    "print(y_pred_s.shape)\n",
    "print(metrics.confusion_matrix(y_test, y_pred_s))\n",
    "\n",
    "y_pred_p = model_p.predict(X_test)\n",
    "print(y_pred_p.shape)\n",
    "print(metrics.confusion_matrix(y_test, y_pred_p))\n",
    "#print(y_train)\n",
    "#print(y_pred)\n",
    "#disp.figure_.suptitle(\"Confusion Matrix\")\n",
    "#print(f\"Confusion matrix:\\n{disp.confusion_matrix}\")\n",
    "\n",
    "#plt.show()"
   ]
  },
  {
   "cell_type": "code",
   "execution_count": 21,
   "metadata": {},
   "outputs": [
    {
     "name": "stdout",
     "output_type": "stream",
     "text": [
      "Classification report for serial home made classifier :\n",
      "              precision    recall  f1-score   support\n",
      "\n",
      "           0       0.94      0.99      0.97       140\n",
      "           1       0.90      0.63      0.74       144\n",
      "           2       0.90      0.91      0.91       141\n",
      "           3       0.95      0.82      0.88       145\n",
      "           4       0.94      0.93      0.93       147\n",
      "           5       0.86      0.90      0.88       146\n",
      "           6       0.92      0.97      0.94       145\n",
      "           7       0.97      0.88      0.92       144\n",
      "           8       0.77      0.78      0.77       140\n",
      "           9       0.67      0.90      0.77       146\n",
      "\n",
      "    accuracy                           0.87      1438\n",
      "   macro avg       0.88      0.87      0.87      1438\n",
      "weighted avg       0.88      0.87      0.87      1438\n",
      "\n",
      "\n"
     ]
    }
   ],
   "source": [
    "print(f\"Classification report for serial home made classifier :\\n\"\n",
    "      f\"{metrics.classification_report(y_test, y_pred_s)}\\n\")"
   ]
  },
  {
   "cell_type": "code",
   "execution_count": 22,
   "metadata": {},
   "outputs": [
    {
     "name": "stdout",
     "output_type": "stream",
     "text": [
      "Classification report for parallel home made classifier :\n",
      "              precision    recall  f1-score   support\n",
      "\n",
      "           0       0.94      0.99      0.97       140\n",
      "           1       0.90      0.63      0.74       144\n",
      "           2       0.90      0.91      0.91       141\n",
      "           3       0.95      0.82      0.88       145\n",
      "           4       0.94      0.93      0.93       147\n",
      "           5       0.86      0.90      0.88       146\n",
      "           6       0.92      0.97      0.94       145\n",
      "           7       0.97      0.88      0.92       144\n",
      "           8       0.77      0.78      0.77       140\n",
      "           9       0.67      0.90      0.77       146\n",
      "\n",
      "    accuracy                           0.87      1438\n",
      "   macro avg       0.88      0.87      0.87      1438\n",
      "weighted avg       0.88      0.87      0.87      1438\n",
      "\n",
      "\n"
     ]
    }
   ],
   "source": [
    "print(f\"Classification report for parallel home made classifier :\\n\"\n",
    "      f\"{metrics.classification_report(y_test, y_pred_p)}\\n\")"
   ]
  },
  {
   "cell_type": "code",
   "execution_count": null,
   "metadata": {},
   "outputs": [],
   "source": []
  }
 ],
 "metadata": {
  "kernelspec": {
   "display_name": "Python 3",
   "language": "python",
   "name": "python3"
  },
  "language_info": {
   "codemirror_mode": {
    "name": "ipython",
    "version": 3
   },
   "file_extension": ".py",
   "mimetype": "text/x-python",
   "name": "python",
   "nbconvert_exporter": "python",
   "pygments_lexer": "ipython3",
   "version": "3.8.3"
  }
 },
 "nbformat": 4,
 "nbformat_minor": 4
}
