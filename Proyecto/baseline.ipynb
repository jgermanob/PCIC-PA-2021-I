{
 "cells": [
  {
   "cell_type": "markdown",
   "metadata": {
    "dc": {
     "key": "3"
    },
    "deletable": false,
    "editable": false,
    "run_control": {
     "frozen": true
    },
    "tags": [
     "context"
    ]
   },
   "source": [
    "## 1. Preparing our dataset\n",
    "<p><em>These recommendations are so on point! How does this playlist know me so well?</em></p>\n",
    "<p><img src=\"https://assets.datacamp.com/production/project_449/img/iphone_music.jpg\" alt=\"Project Image Record\" width=\"600px\"></p>\n",
    "<p>Over the past few years, streaming services with huge catalogs have become the primary means through which most people listen to their favorite music. But at the same time, the sheer amount of music on offer can mean users might be a bit overwhelmed when trying to look for newer music that suits their tastes.</p>\n",
    "<p>For this reason, streaming services have looked into means of categorizing music to allow for personalized recommendations. One method involves direct analysis of the raw audio information in a given song, scoring the raw data on a variety of metrics. Today, we'll be examining data compiled by a research group known as The Echo Nest. Our goal is to look through this dataset and classify songs as being either 'Hip-Hop' or 'Rock' - all without listening to a single one ourselves. In doing so, we will learn how to clean our data, do some exploratory data visualization, and use feature reduction towards the goal of feeding our data through some simple machine learning algorithms, such as decision trees and logistic regression.</p>\n",
    "<p>To begin with, let's load the metadata about our tracks alongside the track metrics compiled by The Echo Nest. A song is about more than its title, artist, and number of listens. We have another dataset that has musical features of each track such as <code>danceability</code> and <code>acousticness</code> on a scale from -1 to 1. These exist in two different files, which are in different formats - CSV and JSON. While CSV is a popular file format for denoting tabular data, JSON is another common file format in which databases often return the results of a given query.</p>\n",
    "<p>Let's start by creating two pandas <code>DataFrames</code> out of these files that we can merge so we have features and labels (often also referred to as <code>X</code> and <code>y</code>) for the classification later on.</p>"
   ]
  },
  {
   "cell_type": "code",
   "execution_count": 21,
   "metadata": {},
   "outputs": [],
   "source": [
    "#Bibliotecas#\n",
    "import pandas as pd\n",
    "from sklearn.preprocessing import StandardScaler\n",
    "import matplotlib.pyplot as plt\n",
    "from sklearn.decomposition import PCA\n",
    "import numpy as np\n",
    "from sklearn.model_selection import train_test_split\n",
    "from sklearn.tree import DecisionTreeClassifier\n",
    "from sklearn.linear_model import LogisticRegression\n",
    "from sklearn.metrics import classification_report, confusion_matrix\n",
    "from sklearn.model_selection import KFold, cross_val_score\n",
    "import time"
   ]
  },
  {
   "cell_type": "code",
   "execution_count": 22,
   "metadata": {},
   "outputs": [],
   "source": [
    "TRACKS_METADATA_PATH = './Data/fma-rock-vs-hiphop.csv'\n",
    "TRACKS_METRICS_PATH = './Data/echonest-metrics.json'"
   ]
  },
  {
   "cell_type": "code",
   "execution_count": 23,
   "metadata": {
    "dc": {
     "key": "3"
    },
    "tags": [
     "sample_code"
    ]
   },
   "outputs": [
    {
     "data": {
      "text/html": [
       "<div>\n",
       "<style scoped>\n",
       "    .dataframe tbody tr th:only-of-type {\n",
       "        vertical-align: middle;\n",
       "    }\n",
       "\n",
       "    .dataframe tbody tr th {\n",
       "        vertical-align: top;\n",
       "    }\n",
       "\n",
       "    .dataframe thead th {\n",
       "        text-align: right;\n",
       "    }\n",
       "</style>\n",
       "<table border=\"1\" class=\"dataframe\">\n",
       "  <thead>\n",
       "    <tr style=\"text-align: right;\">\n",
       "      <th></th>\n",
       "      <th>track_id</th>\n",
       "      <th>acousticness</th>\n",
       "      <th>danceability</th>\n",
       "      <th>energy</th>\n",
       "      <th>instrumentalness</th>\n",
       "      <th>liveness</th>\n",
       "      <th>speechiness</th>\n",
       "      <th>tempo</th>\n",
       "      <th>valence</th>\n",
       "      <th>genre_top</th>\n",
       "    </tr>\n",
       "  </thead>\n",
       "  <tbody>\n",
       "    <tr>\n",
       "      <th>0</th>\n",
       "      <td>2</td>\n",
       "      <td>0.416675</td>\n",
       "      <td>0.675894</td>\n",
       "      <td>0.634476</td>\n",
       "      <td>0.010628</td>\n",
       "      <td>0.177647</td>\n",
       "      <td>0.159310</td>\n",
       "      <td>165.922</td>\n",
       "      <td>0.576661</td>\n",
       "      <td>Hip-Hop</td>\n",
       "    </tr>\n",
       "    <tr>\n",
       "      <th>1</th>\n",
       "      <td>3</td>\n",
       "      <td>0.374408</td>\n",
       "      <td>0.528643</td>\n",
       "      <td>0.817461</td>\n",
       "      <td>0.001851</td>\n",
       "      <td>0.105880</td>\n",
       "      <td>0.461818</td>\n",
       "      <td>126.957</td>\n",
       "      <td>0.269240</td>\n",
       "      <td>Hip-Hop</td>\n",
       "    </tr>\n",
       "    <tr>\n",
       "      <th>2</th>\n",
       "      <td>5</td>\n",
       "      <td>0.043567</td>\n",
       "      <td>0.745566</td>\n",
       "      <td>0.701470</td>\n",
       "      <td>0.000697</td>\n",
       "      <td>0.373143</td>\n",
       "      <td>0.124595</td>\n",
       "      <td>100.260</td>\n",
       "      <td>0.621661</td>\n",
       "      <td>Hip-Hop</td>\n",
       "    </tr>\n",
       "    <tr>\n",
       "      <th>3</th>\n",
       "      <td>134</td>\n",
       "      <td>0.452217</td>\n",
       "      <td>0.513238</td>\n",
       "      <td>0.560410</td>\n",
       "      <td>0.019443</td>\n",
       "      <td>0.096567</td>\n",
       "      <td>0.525519</td>\n",
       "      <td>114.290</td>\n",
       "      <td>0.894072</td>\n",
       "      <td>Hip-Hop</td>\n",
       "    </tr>\n",
       "    <tr>\n",
       "      <th>4</th>\n",
       "      <td>153</td>\n",
       "      <td>0.988306</td>\n",
       "      <td>0.255661</td>\n",
       "      <td>0.979774</td>\n",
       "      <td>0.973006</td>\n",
       "      <td>0.121342</td>\n",
       "      <td>0.051740</td>\n",
       "      <td>90.241</td>\n",
       "      <td>0.034018</td>\n",
       "      <td>Rock</td>\n",
       "    </tr>\n",
       "    <tr>\n",
       "      <th>5</th>\n",
       "      <td>154</td>\n",
       "      <td>0.970135</td>\n",
       "      <td>0.352946</td>\n",
       "      <td>0.023852</td>\n",
       "      <td>0.957113</td>\n",
       "      <td>0.113261</td>\n",
       "      <td>0.032177</td>\n",
       "      <td>53.758</td>\n",
       "      <td>0.035632</td>\n",
       "      <td>Rock</td>\n",
       "    </tr>\n",
       "    <tr>\n",
       "      <th>6</th>\n",
       "      <td>155</td>\n",
       "      <td>0.981657</td>\n",
       "      <td>0.142249</td>\n",
       "      <td>0.912122</td>\n",
       "      <td>0.967294</td>\n",
       "      <td>0.363510</td>\n",
       "      <td>0.087527</td>\n",
       "      <td>91.912</td>\n",
       "      <td>0.034325</td>\n",
       "      <td>Rock</td>\n",
       "    </tr>\n",
       "    <tr>\n",
       "      <th>7</th>\n",
       "      <td>169</td>\n",
       "      <td>0.989141</td>\n",
       "      <td>0.225978</td>\n",
       "      <td>0.722835</td>\n",
       "      <td>0.263076</td>\n",
       "      <td>0.092371</td>\n",
       "      <td>0.053406</td>\n",
       "      <td>94.322</td>\n",
       "      <td>0.028347</td>\n",
       "      <td>Rock</td>\n",
       "    </tr>\n",
       "    <tr>\n",
       "      <th>8</th>\n",
       "      <td>170</td>\n",
       "      <td>0.886660</td>\n",
       "      <td>0.298518</td>\n",
       "      <td>0.744333</td>\n",
       "      <td>0.920950</td>\n",
       "      <td>0.139587</td>\n",
       "      <td>0.088781</td>\n",
       "      <td>97.880</td>\n",
       "      <td>0.073548</td>\n",
       "      <td>Rock</td>\n",
       "    </tr>\n",
       "    <tr>\n",
       "      <th>9</th>\n",
       "      <td>171</td>\n",
       "      <td>0.698278</td>\n",
       "      <td>0.285816</td>\n",
       "      <td>0.213494</td>\n",
       "      <td>0.955691</td>\n",
       "      <td>0.087036</td>\n",
       "      <td>0.064094</td>\n",
       "      <td>125.645</td>\n",
       "      <td>0.150599</td>\n",
       "      <td>Rock</td>\n",
       "    </tr>\n",
       "  </tbody>\n",
       "</table>\n",
       "</div>"
      ],
      "text/plain": [
       "   track_id  acousticness  danceability    energy  instrumentalness  liveness  \\\n",
       "0         2      0.416675      0.675894  0.634476          0.010628  0.177647   \n",
       "1         3      0.374408      0.528643  0.817461          0.001851  0.105880   \n",
       "2         5      0.043567      0.745566  0.701470          0.000697  0.373143   \n",
       "3       134      0.452217      0.513238  0.560410          0.019443  0.096567   \n",
       "4       153      0.988306      0.255661  0.979774          0.973006  0.121342   \n",
       "5       154      0.970135      0.352946  0.023852          0.957113  0.113261   \n",
       "6       155      0.981657      0.142249  0.912122          0.967294  0.363510   \n",
       "7       169      0.989141      0.225978  0.722835          0.263076  0.092371   \n",
       "8       170      0.886660      0.298518  0.744333          0.920950  0.139587   \n",
       "9       171      0.698278      0.285816  0.213494          0.955691  0.087036   \n",
       "\n",
       "   speechiness    tempo   valence genre_top  \n",
       "0     0.159310  165.922  0.576661   Hip-Hop  \n",
       "1     0.461818  126.957  0.269240   Hip-Hop  \n",
       "2     0.124595  100.260  0.621661   Hip-Hop  \n",
       "3     0.525519  114.290  0.894072   Hip-Hop  \n",
       "4     0.051740   90.241  0.034018      Rock  \n",
       "5     0.032177   53.758  0.035632      Rock  \n",
       "6     0.087527   91.912  0.034325      Rock  \n",
       "7     0.053406   94.322  0.028347      Rock  \n",
       "8     0.088781   97.880  0.073548      Rock  \n",
       "9     0.064094  125.645  0.150599      Rock  "
      ]
     },
     "execution_count": 23,
     "metadata": {},
     "output_type": "execute_result"
    }
   ],
   "source": [
    "# Read in track metadata with genre labels\n",
    "tracks = pd.read_csv(TRACKS_METADATA_PATH)\n",
    "\n",
    "# Read in track metrics with the features\n",
    "echonest_metrics = pd.read_json(TRACKS_METRICS_PATH)\n",
    "\n",
    "# Merge the relevant columns of tracks and echonest_metrics\n",
    "echo_tracks = echonest_metrics.merge(tracks[['track_id','genre_top']],on='track_id')\n",
    "\n",
    "# Inspect the resultant dataframe\n",
    "echo_tracks.head(10)"
   ]
  },
  {
   "cell_type": "markdown",
   "metadata": {
    "dc": {
     "key": "10"
    },
    "deletable": false,
    "editable": false,
    "run_control": {
     "frozen": true
    },
    "tags": [
     "context"
    ]
   },
   "source": [
    "## 2. Pairwise relationships between continuous variables\n",
    "<p>We typically want to avoid using variables that have strong correlations with each other -- hence avoiding feature redundancy -- for a few reasons:</p>\n",
    "<ul>\n",
    "<li>To keep the model simple and improve interpretability (with many features, we run the risk of overfitting).</li>\n",
    "<li>When our datasets are very large, using fewer features can drastically speed up our computation time.</li>\n",
    "</ul>\n",
    "<p>To get a sense of whether there are any strongly correlated features in our data, we will use built-in functions in the <code>pandas</code> package.</p>"
   ]
  },
  {
   "cell_type": "code",
   "execution_count": 24,
   "metadata": {
    "dc": {
     "key": "10"
    },
    "tags": [
     "sample_code"
    ]
   },
   "outputs": [
    {
     "data": {
      "text/html": [
       "<style  type=\"text/css\" >\n",
       "    #T_48775914_5798_11eb_add1_645a04d32ad9row0_col0 {\n",
       "            background-color:  #023858;\n",
       "            color:  #f1f1f1;\n",
       "        }    #T_48775914_5798_11eb_add1_645a04d32ad9row0_col1 {\n",
       "            background-color:  #fff7fb;\n",
       "            color:  #000000;\n",
       "        }    #T_48775914_5798_11eb_add1_645a04d32ad9row0_col2 {\n",
       "            background-color:  #d2d2e7;\n",
       "            color:  #000000;\n",
       "        }    #T_48775914_5798_11eb_add1_645a04d32ad9row0_col3 {\n",
       "            background-color:  #b5c4df;\n",
       "            color:  #000000;\n",
       "        }    #T_48775914_5798_11eb_add1_645a04d32ad9row0_col4 {\n",
       "            background-color:  #f5eef6;\n",
       "            color:  #000000;\n",
       "        }    #T_48775914_5798_11eb_add1_645a04d32ad9row0_col5 {\n",
       "            background-color:  #e9e5f1;\n",
       "            color:  #000000;\n",
       "        }    #T_48775914_5798_11eb_add1_645a04d32ad9row0_col6 {\n",
       "            background-color:  #d1d2e6;\n",
       "            color:  #000000;\n",
       "        }    #T_48775914_5798_11eb_add1_645a04d32ad9row0_col7 {\n",
       "            background-color:  #e1dfed;\n",
       "            color:  #000000;\n",
       "        }    #T_48775914_5798_11eb_add1_645a04d32ad9row0_col8 {\n",
       "            background-color:  #dedcec;\n",
       "            color:  #000000;\n",
       "        }    #T_48775914_5798_11eb_add1_645a04d32ad9row1_col0 {\n",
       "            background-color:  #fff7fb;\n",
       "            color:  #000000;\n",
       "        }    #T_48775914_5798_11eb_add1_645a04d32ad9row1_col1 {\n",
       "            background-color:  #023858;\n",
       "            color:  #f1f1f1;\n",
       "        }    #T_48775914_5798_11eb_add1_645a04d32ad9row1_col2 {\n",
       "            background-color:  #e0dded;\n",
       "            color:  #000000;\n",
       "        }    #T_48775914_5798_11eb_add1_645a04d32ad9row1_col3 {\n",
       "            background-color:  #fff7fb;\n",
       "            color:  #000000;\n",
       "        }    #T_48775914_5798_11eb_add1_645a04d32ad9row1_col4 {\n",
       "            background-color:  #97b7d7;\n",
       "            color:  #000000;\n",
       "        }    #T_48775914_5798_11eb_add1_645a04d32ad9row1_col5 {\n",
       "            background-color:  #f3edf5;\n",
       "            color:  #000000;\n",
       "        }    #T_48775914_5798_11eb_add1_645a04d32ad9row1_col6 {\n",
       "            background-color:  #b8c6e0;\n",
       "            color:  #000000;\n",
       "        }    #T_48775914_5798_11eb_add1_645a04d32ad9row1_col7 {\n",
       "            background-color:  #e1dfed;\n",
       "            color:  #000000;\n",
       "        }    #T_48775914_5798_11eb_add1_645a04d32ad9row1_col8 {\n",
       "            background-color:  #e2dfee;\n",
       "            color:  #000000;\n",
       "        }    #T_48775914_5798_11eb_add1_645a04d32ad9row2_col0 {\n",
       "            background-color:  #bdc8e1;\n",
       "            color:  #000000;\n",
       "        }    #T_48775914_5798_11eb_add1_645a04d32ad9row2_col1 {\n",
       "            background-color:  #d0d1e6;\n",
       "            color:  #000000;\n",
       "        }    #T_48775914_5798_11eb_add1_645a04d32ad9row2_col2 {\n",
       "            background-color:  #023858;\n",
       "            color:  #f1f1f1;\n",
       "        }    #T_48775914_5798_11eb_add1_645a04d32ad9row2_col3 {\n",
       "            background-color:  #fbf3f9;\n",
       "            color:  #000000;\n",
       "        }    #T_48775914_5798_11eb_add1_645a04d32ad9row2_col4 {\n",
       "            background-color:  #f3edf5;\n",
       "            color:  #000000;\n",
       "        }    #T_48775914_5798_11eb_add1_645a04d32ad9row2_col5 {\n",
       "            background-color:  #fff7fb;\n",
       "            color:  #000000;\n",
       "        }    #T_48775914_5798_11eb_add1_645a04d32ad9row2_col6 {\n",
       "            background-color:  #80aed2;\n",
       "            color:  #000000;\n",
       "        }    #T_48775914_5798_11eb_add1_645a04d32ad9row2_col7 {\n",
       "            background-color:  #fff7fb;\n",
       "            color:  #000000;\n",
       "        }    #T_48775914_5798_11eb_add1_645a04d32ad9row2_col8 {\n",
       "            background-color:  #529bc7;\n",
       "            color:  #000000;\n",
       "        }    #T_48775914_5798_11eb_add1_645a04d32ad9row3_col0 {\n",
       "            background-color:  #a7bddb;\n",
       "            color:  #000000;\n",
       "        }    #T_48775914_5798_11eb_add1_645a04d32ad9row3_col1 {\n",
       "            background-color:  #f5eff6;\n",
       "            color:  #000000;\n",
       "        }    #T_48775914_5798_11eb_add1_645a04d32ad9row3_col2 {\n",
       "            background-color:  #fef6fa;\n",
       "            color:  #000000;\n",
       "        }    #T_48775914_5798_11eb_add1_645a04d32ad9row3_col3 {\n",
       "            background-color:  #023858;\n",
       "            color:  #f1f1f1;\n",
       "        }    #T_48775914_5798_11eb_add1_645a04d32ad9row3_col4 {\n",
       "            background-color:  #c4cbe3;\n",
       "            color:  #000000;\n",
       "        }    #T_48775914_5798_11eb_add1_645a04d32ad9row3_col5 {\n",
       "            background-color:  #dcdaeb;\n",
       "            color:  #000000;\n",
       "        }    #T_48775914_5798_11eb_add1_645a04d32ad9row3_col6 {\n",
       "            background-color:  #dedcec;\n",
       "            color:  #000000;\n",
       "        }    #T_48775914_5798_11eb_add1_645a04d32ad9row3_col7 {\n",
       "            background-color:  #adc1dd;\n",
       "            color:  #000000;\n",
       "        }    #T_48775914_5798_11eb_add1_645a04d32ad9row3_col8 {\n",
       "            background-color:  #d9d8ea;\n",
       "            color:  #000000;\n",
       "        }    #T_48775914_5798_11eb_add1_645a04d32ad9row4_col0 {\n",
       "            background-color:  #f4eef6;\n",
       "            color:  #000000;\n",
       "        }    #T_48775914_5798_11eb_add1_645a04d32ad9row4_col1 {\n",
       "            background-color:  #97b7d7;\n",
       "            color:  #000000;\n",
       "        }    #T_48775914_5798_11eb_add1_645a04d32ad9row4_col2 {\n",
       "            background-color:  #fff7fb;\n",
       "            color:  #000000;\n",
       "        }    #T_48775914_5798_11eb_add1_645a04d32ad9row4_col3 {\n",
       "            background-color:  #d2d3e7;\n",
       "            color:  #000000;\n",
       "        }    #T_48775914_5798_11eb_add1_645a04d32ad9row4_col4 {\n",
       "            background-color:  #023858;\n",
       "            color:  #f1f1f1;\n",
       "        }    #T_48775914_5798_11eb_add1_645a04d32ad9row4_col5 {\n",
       "            background-color:  #fdf5fa;\n",
       "            color:  #000000;\n",
       "        }    #T_48775914_5798_11eb_add1_645a04d32ad9row4_col6 {\n",
       "            background-color:  #fff7fb;\n",
       "            color:  #000000;\n",
       "        }    #T_48775914_5798_11eb_add1_645a04d32ad9row4_col7 {\n",
       "            background-color:  #d9d8ea;\n",
       "            color:  #000000;\n",
       "        }    #T_48775914_5798_11eb_add1_645a04d32ad9row4_col8 {\n",
       "            background-color:  #fff7fb;\n",
       "            color:  #000000;\n",
       "        }    #T_48775914_5798_11eb_add1_645a04d32ad9row5_col0 {\n",
       "            background-color:  #bdc8e1;\n",
       "            color:  #000000;\n",
       "        }    #T_48775914_5798_11eb_add1_645a04d32ad9row5_col1 {\n",
       "            background-color:  #ced0e6;\n",
       "            color:  #000000;\n",
       "        }    #T_48775914_5798_11eb_add1_645a04d32ad9row5_col2 {\n",
       "            background-color:  #ede8f3;\n",
       "            color:  #000000;\n",
       "        }    #T_48775914_5798_11eb_add1_645a04d32ad9row5_col3 {\n",
       "            background-color:  #bdc8e1;\n",
       "            color:  #000000;\n",
       "        }    #T_48775914_5798_11eb_add1_645a04d32ad9row5_col4 {\n",
       "            background-color:  #dbdaeb;\n",
       "            color:  #000000;\n",
       "        }    #T_48775914_5798_11eb_add1_645a04d32ad9row5_col5 {\n",
       "            background-color:  #023858;\n",
       "            color:  #f1f1f1;\n",
       "        }    #T_48775914_5798_11eb_add1_645a04d32ad9row5_col6 {\n",
       "            background-color:  #c0c9e2;\n",
       "            color:  #000000;\n",
       "        }    #T_48775914_5798_11eb_add1_645a04d32ad9row5_col7 {\n",
       "            background-color:  #dcdaeb;\n",
       "            color:  #000000;\n",
       "        }    #T_48775914_5798_11eb_add1_645a04d32ad9row5_col8 {\n",
       "            background-color:  #e8e4f0;\n",
       "            color:  #000000;\n",
       "        }    #T_48775914_5798_11eb_add1_645a04d32ad9row6_col0 {\n",
       "            background-color:  #d0d1e6;\n",
       "            color:  #000000;\n",
       "        }    #T_48775914_5798_11eb_add1_645a04d32ad9row6_col1 {\n",
       "            background-color:  #b8c6e0;\n",
       "            color:  #000000;\n",
       "        }    #T_48775914_5798_11eb_add1_645a04d32ad9row6_col2 {\n",
       "            background-color:  #93b5d6;\n",
       "            color:  #000000;\n",
       "        }    #T_48775914_5798_11eb_add1_645a04d32ad9row6_col3 {\n",
       "            background-color:  #eae6f1;\n",
       "            color:  #000000;\n",
       "        }    #T_48775914_5798_11eb_add1_645a04d32ad9row6_col4 {\n",
       "            background-color:  #fff7fb;\n",
       "            color:  #000000;\n",
       "        }    #T_48775914_5798_11eb_add1_645a04d32ad9row6_col5 {\n",
       "            background-color:  #eae6f1;\n",
       "            color:  #000000;\n",
       "        }    #T_48775914_5798_11eb_add1_645a04d32ad9row6_col6 {\n",
       "            background-color:  #023858;\n",
       "            color:  #f1f1f1;\n",
       "        }    #T_48775914_5798_11eb_add1_645a04d32ad9row6_col7 {\n",
       "            background-color:  #dbdaeb;\n",
       "            color:  #000000;\n",
       "        }    #T_48775914_5798_11eb_add1_645a04d32ad9row6_col8 {\n",
       "            background-color:  #bfc9e1;\n",
       "            color:  #000000;\n",
       "        }    #T_48775914_5798_11eb_add1_645a04d32ad9row7_col0 {\n",
       "            background-color:  #d0d1e6;\n",
       "            color:  #000000;\n",
       "        }    #T_48775914_5798_11eb_add1_645a04d32ad9row7_col1 {\n",
       "            background-color:  #d0d1e6;\n",
       "            color:  #000000;\n",
       "        }    #T_48775914_5798_11eb_add1_645a04d32ad9row7_col2 {\n",
       "            background-color:  #fef6fa;\n",
       "            color:  #000000;\n",
       "        }    #T_48775914_5798_11eb_add1_645a04d32ad9row7_col3 {\n",
       "            background-color:  #a7bddb;\n",
       "            color:  #000000;\n",
       "        }    #T_48775914_5798_11eb_add1_645a04d32ad9row7_col4 {\n",
       "            background-color:  #c5cce3;\n",
       "            color:  #000000;\n",
       "        }    #T_48775914_5798_11eb_add1_645a04d32ad9row7_col5 {\n",
       "            background-color:  #f0eaf4;\n",
       "            color:  #000000;\n",
       "        }    #T_48775914_5798_11eb_add1_645a04d32ad9row7_col6 {\n",
       "            background-color:  #c8cde4;\n",
       "            color:  #000000;\n",
       "        }    #T_48775914_5798_11eb_add1_645a04d32ad9row7_col7 {\n",
       "            background-color:  #023858;\n",
       "            color:  #f1f1f1;\n",
       "        }    #T_48775914_5798_11eb_add1_645a04d32ad9row7_col8 {\n",
       "            background-color:  #d6d6e9;\n",
       "            color:  #000000;\n",
       "        }    #T_48775914_5798_11eb_add1_645a04d32ad9row8_col0 {\n",
       "            background-color:  #c6cce3;\n",
       "            color:  #000000;\n",
       "        }    #T_48775914_5798_11eb_add1_645a04d32ad9row8_col1 {\n",
       "            background-color:  #cdd0e5;\n",
       "            color:  #000000;\n",
       "        }    #T_48775914_5798_11eb_add1_645a04d32ad9row8_col2 {\n",
       "            background-color:  #4c99c5;\n",
       "            color:  #000000;\n",
       "        }    #T_48775914_5798_11eb_add1_645a04d32ad9row8_col3 {\n",
       "            background-color:  #d1d2e6;\n",
       "            color:  #000000;\n",
       "        }    #T_48775914_5798_11eb_add1_645a04d32ad9row8_col4 {\n",
       "            background-color:  #efe9f3;\n",
       "            color:  #000000;\n",
       "        }    #T_48775914_5798_11eb_add1_645a04d32ad9row8_col5 {\n",
       "            background-color:  #f7f0f7;\n",
       "            color:  #000000;\n",
       "        }    #T_48775914_5798_11eb_add1_645a04d32ad9row8_col6 {\n",
       "            background-color:  #a5bddb;\n",
       "            color:  #000000;\n",
       "        }    #T_48775914_5798_11eb_add1_645a04d32ad9row8_col7 {\n",
       "            background-color:  #d3d4e7;\n",
       "            color:  #000000;\n",
       "        }    #T_48775914_5798_11eb_add1_645a04d32ad9row8_col8 {\n",
       "            background-color:  #023858;\n",
       "            color:  #f1f1f1;\n",
       "        }</style><table id=\"T_48775914_5798_11eb_add1_645a04d32ad9\" ><thead>    <tr>        <th class=\"blank level0\" ></th>        <th class=\"col_heading level0 col0\" >track_id</th>        <th class=\"col_heading level0 col1\" >acousticness</th>        <th class=\"col_heading level0 col2\" >danceability</th>        <th class=\"col_heading level0 col3\" >energy</th>        <th class=\"col_heading level0 col4\" >instrumentalness</th>        <th class=\"col_heading level0 col5\" >liveness</th>        <th class=\"col_heading level0 col6\" >speechiness</th>        <th class=\"col_heading level0 col7\" >tempo</th>        <th class=\"col_heading level0 col8\" >valence</th>    </tr></thead><tbody>\n",
       "                <tr>\n",
       "                        <th id=\"T_48775914_5798_11eb_add1_645a04d32ad9level0_row0\" class=\"row_heading level0 row0\" >track_id</th>\n",
       "                        <td id=\"T_48775914_5798_11eb_add1_645a04d32ad9row0_col0\" class=\"data row0 col0\" >1.000000</td>\n",
       "                        <td id=\"T_48775914_5798_11eb_add1_645a04d32ad9row0_col1\" class=\"data row0 col1\" >-0.372282</td>\n",
       "                        <td id=\"T_48775914_5798_11eb_add1_645a04d32ad9row0_col2\" class=\"data row0 col2\" >0.049454</td>\n",
       "                        <td id=\"T_48775914_5798_11eb_add1_645a04d32ad9row0_col3\" class=\"data row0 col3\" >0.140703</td>\n",
       "                        <td id=\"T_48775914_5798_11eb_add1_645a04d32ad9row0_col4\" class=\"data row0 col4\" >-0.275623</td>\n",
       "                        <td id=\"T_48775914_5798_11eb_add1_645a04d32ad9row0_col5\" class=\"data row0 col5\" >0.048231</td>\n",
       "                        <td id=\"T_48775914_5798_11eb_add1_645a04d32ad9row0_col6\" class=\"data row0 col6\" >-0.026995</td>\n",
       "                        <td id=\"T_48775914_5798_11eb_add1_645a04d32ad9row0_col7\" class=\"data row0 col7\" >-0.025392</td>\n",
       "                        <td id=\"T_48775914_5798_11eb_add1_645a04d32ad9row0_col8\" class=\"data row0 col8\" >0.010070</td>\n",
       "            </tr>\n",
       "            <tr>\n",
       "                        <th id=\"T_48775914_5798_11eb_add1_645a04d32ad9level0_row1\" class=\"row_heading level0 row1\" >acousticness</th>\n",
       "                        <td id=\"T_48775914_5798_11eb_add1_645a04d32ad9row1_col0\" class=\"data row1 col0\" >-0.372282</td>\n",
       "                        <td id=\"T_48775914_5798_11eb_add1_645a04d32ad9row1_col1\" class=\"data row1 col1\" >1.000000</td>\n",
       "                        <td id=\"T_48775914_5798_11eb_add1_645a04d32ad9row1_col2\" class=\"data row1 col2\" >-0.028954</td>\n",
       "                        <td id=\"T_48775914_5798_11eb_add1_645a04d32ad9row1_col3\" class=\"data row1 col3\" >-0.281619</td>\n",
       "                        <td id=\"T_48775914_5798_11eb_add1_645a04d32ad9row1_col4\" class=\"data row1 col4\" >0.194780</td>\n",
       "                        <td id=\"T_48775914_5798_11eb_add1_645a04d32ad9row1_col5\" class=\"data row1 col5\" >-0.019991</td>\n",
       "                        <td id=\"T_48775914_5798_11eb_add1_645a04d32ad9row1_col6\" class=\"data row1 col6\" >0.072204</td>\n",
       "                        <td id=\"T_48775914_5798_11eb_add1_645a04d32ad9row1_col7\" class=\"data row1 col7\" >-0.026310</td>\n",
       "                        <td id=\"T_48775914_5798_11eb_add1_645a04d32ad9row1_col8\" class=\"data row1 col8\" >-0.013841</td>\n",
       "            </tr>\n",
       "            <tr>\n",
       "                        <th id=\"T_48775914_5798_11eb_add1_645a04d32ad9level0_row2\" class=\"row_heading level0 row2\" >danceability</th>\n",
       "                        <td id=\"T_48775914_5798_11eb_add1_645a04d32ad9row2_col0\" class=\"data row2 col0\" >0.049454</td>\n",
       "                        <td id=\"T_48775914_5798_11eb_add1_645a04d32ad9row2_col1\" class=\"data row2 col1\" >-0.028954</td>\n",
       "                        <td id=\"T_48775914_5798_11eb_add1_645a04d32ad9row2_col2\" class=\"data row2 col2\" >1.000000</td>\n",
       "                        <td id=\"T_48775914_5798_11eb_add1_645a04d32ad9row2_col3\" class=\"data row2 col3\" >-0.242032</td>\n",
       "                        <td id=\"T_48775914_5798_11eb_add1_645a04d32ad9row2_col4\" class=\"data row2 col4\" >-0.255217</td>\n",
       "                        <td id=\"T_48775914_5798_11eb_add1_645a04d32ad9row2_col5\" class=\"data row2 col5\" >-0.106584</td>\n",
       "                        <td id=\"T_48775914_5798_11eb_add1_645a04d32ad9row2_col6\" class=\"data row2 col6\" >0.276206</td>\n",
       "                        <td id=\"T_48775914_5798_11eb_add1_645a04d32ad9row2_col7\" class=\"data row2 col7\" >-0.242089</td>\n",
       "                        <td id=\"T_48775914_5798_11eb_add1_645a04d32ad9row2_col8\" class=\"data row2 col8\" >0.473165</td>\n",
       "            </tr>\n",
       "            <tr>\n",
       "                        <th id=\"T_48775914_5798_11eb_add1_645a04d32ad9level0_row3\" class=\"row_heading level0 row3\" >energy</th>\n",
       "                        <td id=\"T_48775914_5798_11eb_add1_645a04d32ad9row3_col0\" class=\"data row3 col0\" >0.140703</td>\n",
       "                        <td id=\"T_48775914_5798_11eb_add1_645a04d32ad9row3_col1\" class=\"data row3 col1\" >-0.281619</td>\n",
       "                        <td id=\"T_48775914_5798_11eb_add1_645a04d32ad9row3_col2\" class=\"data row3 col2\" >-0.242032</td>\n",
       "                        <td id=\"T_48775914_5798_11eb_add1_645a04d32ad9row3_col3\" class=\"data row3 col3\" >1.000000</td>\n",
       "                        <td id=\"T_48775914_5798_11eb_add1_645a04d32ad9row3_col4\" class=\"data row3 col4\" >0.028238</td>\n",
       "                        <td id=\"T_48775914_5798_11eb_add1_645a04d32ad9row3_col5\" class=\"data row3 col5\" >0.113331</td>\n",
       "                        <td id=\"T_48775914_5798_11eb_add1_645a04d32ad9row3_col6\" class=\"data row3 col6\" >-0.109983</td>\n",
       "                        <td id=\"T_48775914_5798_11eb_add1_645a04d32ad9row3_col7\" class=\"data row3 col7\" >0.195227</td>\n",
       "                        <td id=\"T_48775914_5798_11eb_add1_645a04d32ad9row3_col8\" class=\"data row3 col8\" >0.038603</td>\n",
       "            </tr>\n",
       "            <tr>\n",
       "                        <th id=\"T_48775914_5798_11eb_add1_645a04d32ad9level0_row4\" class=\"row_heading level0 row4\" >instrumentalness</th>\n",
       "                        <td id=\"T_48775914_5798_11eb_add1_645a04d32ad9row4_col0\" class=\"data row4 col0\" >-0.275623</td>\n",
       "                        <td id=\"T_48775914_5798_11eb_add1_645a04d32ad9row4_col1\" class=\"data row4 col1\" >0.194780</td>\n",
       "                        <td id=\"T_48775914_5798_11eb_add1_645a04d32ad9row4_col2\" class=\"data row4 col2\" >-0.255217</td>\n",
       "                        <td id=\"T_48775914_5798_11eb_add1_645a04d32ad9row4_col3\" class=\"data row4 col3\" >0.028238</td>\n",
       "                        <td id=\"T_48775914_5798_11eb_add1_645a04d32ad9row4_col4\" class=\"data row4 col4\" >1.000000</td>\n",
       "                        <td id=\"T_48775914_5798_11eb_add1_645a04d32ad9row4_col5\" class=\"data row4 col5\" >-0.091022</td>\n",
       "                        <td id=\"T_48775914_5798_11eb_add1_645a04d32ad9row4_col6\" class=\"data row4 col6\" >-0.366762</td>\n",
       "                        <td id=\"T_48775914_5798_11eb_add1_645a04d32ad9row4_col7\" class=\"data row4 col7\" >0.022215</td>\n",
       "                        <td id=\"T_48775914_5798_11eb_add1_645a04d32ad9row4_col8\" class=\"data row4 col8\" >-0.219967</td>\n",
       "            </tr>\n",
       "            <tr>\n",
       "                        <th id=\"T_48775914_5798_11eb_add1_645a04d32ad9level0_row5\" class=\"row_heading level0 row5\" >liveness</th>\n",
       "                        <td id=\"T_48775914_5798_11eb_add1_645a04d32ad9row5_col0\" class=\"data row5 col0\" >0.048231</td>\n",
       "                        <td id=\"T_48775914_5798_11eb_add1_645a04d32ad9row5_col1\" class=\"data row5 col1\" >-0.019991</td>\n",
       "                        <td id=\"T_48775914_5798_11eb_add1_645a04d32ad9row5_col2\" class=\"data row5 col2\" >-0.106584</td>\n",
       "                        <td id=\"T_48775914_5798_11eb_add1_645a04d32ad9row5_col3\" class=\"data row5 col3\" >0.113331</td>\n",
       "                        <td id=\"T_48775914_5798_11eb_add1_645a04d32ad9row5_col4\" class=\"data row5 col4\" >-0.091022</td>\n",
       "                        <td id=\"T_48775914_5798_11eb_add1_645a04d32ad9row5_col5\" class=\"data row5 col5\" >1.000000</td>\n",
       "                        <td id=\"T_48775914_5798_11eb_add1_645a04d32ad9row5_col6\" class=\"data row5 col6\" >0.041173</td>\n",
       "                        <td id=\"T_48775914_5798_11eb_add1_645a04d32ad9row5_col7\" class=\"data row5 col7\" >0.002732</td>\n",
       "                        <td id=\"T_48775914_5798_11eb_add1_645a04d32ad9row5_col8\" class=\"data row5 col8\" >-0.045093</td>\n",
       "            </tr>\n",
       "            <tr>\n",
       "                        <th id=\"T_48775914_5798_11eb_add1_645a04d32ad9level0_row6\" class=\"row_heading level0 row6\" >speechiness</th>\n",
       "                        <td id=\"T_48775914_5798_11eb_add1_645a04d32ad9row6_col0\" class=\"data row6 col0\" >-0.026995</td>\n",
       "                        <td id=\"T_48775914_5798_11eb_add1_645a04d32ad9row6_col1\" class=\"data row6 col1\" >0.072204</td>\n",
       "                        <td id=\"T_48775914_5798_11eb_add1_645a04d32ad9row6_col2\" class=\"data row6 col2\" >0.276206</td>\n",
       "                        <td id=\"T_48775914_5798_11eb_add1_645a04d32ad9row6_col3\" class=\"data row6 col3\" >-0.109983</td>\n",
       "                        <td id=\"T_48775914_5798_11eb_add1_645a04d32ad9row6_col4\" class=\"data row6 col4\" >-0.366762</td>\n",
       "                        <td id=\"T_48775914_5798_11eb_add1_645a04d32ad9row6_col5\" class=\"data row6 col5\" >0.041173</td>\n",
       "                        <td id=\"T_48775914_5798_11eb_add1_645a04d32ad9row6_col6\" class=\"data row6 col6\" >1.000000</td>\n",
       "                        <td id=\"T_48775914_5798_11eb_add1_645a04d32ad9row6_col7\" class=\"data row6 col7\" >0.008241</td>\n",
       "                        <td id=\"T_48775914_5798_11eb_add1_645a04d32ad9row6_col8\" class=\"data row6 col8\" >0.149894</td>\n",
       "            </tr>\n",
       "            <tr>\n",
       "                        <th id=\"T_48775914_5798_11eb_add1_645a04d32ad9level0_row7\" class=\"row_heading level0 row7\" >tempo</th>\n",
       "                        <td id=\"T_48775914_5798_11eb_add1_645a04d32ad9row7_col0\" class=\"data row7 col0\" >-0.025392</td>\n",
       "                        <td id=\"T_48775914_5798_11eb_add1_645a04d32ad9row7_col1\" class=\"data row7 col1\" >-0.026310</td>\n",
       "                        <td id=\"T_48775914_5798_11eb_add1_645a04d32ad9row7_col2\" class=\"data row7 col2\" >-0.242089</td>\n",
       "                        <td id=\"T_48775914_5798_11eb_add1_645a04d32ad9row7_col3\" class=\"data row7 col3\" >0.195227</td>\n",
       "                        <td id=\"T_48775914_5798_11eb_add1_645a04d32ad9row7_col4\" class=\"data row7 col4\" >0.022215</td>\n",
       "                        <td id=\"T_48775914_5798_11eb_add1_645a04d32ad9row7_col5\" class=\"data row7 col5\" >0.002732</td>\n",
       "                        <td id=\"T_48775914_5798_11eb_add1_645a04d32ad9row7_col6\" class=\"data row7 col6\" >0.008241</td>\n",
       "                        <td id=\"T_48775914_5798_11eb_add1_645a04d32ad9row7_col7\" class=\"data row7 col7\" >1.000000</td>\n",
       "                        <td id=\"T_48775914_5798_11eb_add1_645a04d32ad9row7_col8\" class=\"data row7 col8\" >0.052221</td>\n",
       "            </tr>\n",
       "            <tr>\n",
       "                        <th id=\"T_48775914_5798_11eb_add1_645a04d32ad9level0_row8\" class=\"row_heading level0 row8\" >valence</th>\n",
       "                        <td id=\"T_48775914_5798_11eb_add1_645a04d32ad9row8_col0\" class=\"data row8 col0\" >0.010070</td>\n",
       "                        <td id=\"T_48775914_5798_11eb_add1_645a04d32ad9row8_col1\" class=\"data row8 col1\" >-0.013841</td>\n",
       "                        <td id=\"T_48775914_5798_11eb_add1_645a04d32ad9row8_col2\" class=\"data row8 col2\" >0.473165</td>\n",
       "                        <td id=\"T_48775914_5798_11eb_add1_645a04d32ad9row8_col3\" class=\"data row8 col3\" >0.038603</td>\n",
       "                        <td id=\"T_48775914_5798_11eb_add1_645a04d32ad9row8_col4\" class=\"data row8 col4\" >-0.219967</td>\n",
       "                        <td id=\"T_48775914_5798_11eb_add1_645a04d32ad9row8_col5\" class=\"data row8 col5\" >-0.045093</td>\n",
       "                        <td id=\"T_48775914_5798_11eb_add1_645a04d32ad9row8_col6\" class=\"data row8 col6\" >0.149894</td>\n",
       "                        <td id=\"T_48775914_5798_11eb_add1_645a04d32ad9row8_col7\" class=\"data row8 col7\" >0.052221</td>\n",
       "                        <td id=\"T_48775914_5798_11eb_add1_645a04d32ad9row8_col8\" class=\"data row8 col8\" >1.000000</td>\n",
       "            </tr>\n",
       "    </tbody></table>"
      ],
      "text/plain": [
       "<pandas.io.formats.style.Styler at 0x134f6fb7c10>"
      ]
     },
     "execution_count": 24,
     "metadata": {},
     "output_type": "execute_result"
    }
   ],
   "source": [
    "# Create a correlation matrix\n",
    "corr_metrics = echo_tracks.corr()\n",
    "corr_metrics.style.background_gradient()"
   ]
  },
  {
   "cell_type": "markdown",
   "metadata": {
    "dc": {
     "key": "17"
    },
    "deletable": false,
    "editable": false,
    "run_control": {
     "frozen": true
    },
    "tags": [
     "context"
    ]
   },
   "source": [
    "## 3. Normalizing the feature data\n",
    "<p>As mentioned earlier, it can be particularly useful to simplify our models and use as few features as necessary to achieve the best result. Since we didn't find any particular strong correlations between our features, we can instead use a common approach to reduce the number of features called <strong>principal component analysis (PCA)</strong>. </p>\n",
    "<p>It is possible that the variance between genres can be explained by just a few features in the dataset. PCA rotates the data along the axis of highest variance, thus allowing us to determine the relative contribution of each feature of our data towards the variance between classes. </p>\n",
    "<p>However, since PCA uses the absolute variance of a feature to rotate the data, a feature with a broader range of values will overpower and bias the algorithm relative to the other features. To avoid this, we must first normalize our data. There are a few methods to do this, but a common way is through <em>standardization</em>, such that all features have a mean = 0 and standard deviation = 1 (the resultant is a z-score).</p>"
   ]
  },
  {
   "cell_type": "code",
   "execution_count": 25,
   "metadata": {
    "dc": {
     "key": "17"
    },
    "tags": [
     "sample_code"
    ]
   },
   "outputs": [],
   "source": [
    "# Define our features \n",
    "features = [feature for feature in echo_tracks.columns if feature not in ['track_id', 'genre_top']]\n",
    "\n",
    "# Define our labels\n",
    "labels = echo_tracks['genre_top']\n",
    "\n",
    "# Scale the features and set the values to a new variable\n",
    "scaler = StandardScaler()\n",
    "scaled_train_features = scaler.fit_transform(echo_tracks[features])"
   ]
  },
  {
   "cell_type": "markdown",
   "metadata": {
    "dc": {
     "key": "24"
    },
    "deletable": false,
    "editable": false,
    "run_control": {
     "frozen": true
    },
    "tags": [
     "context"
    ]
   },
   "source": [
    "## 4. Principal Component Analysis on our scaled data\n",
    "<p>Now that we have preprocessed our data, we are ready to use PCA to determine by how much we can reduce the dimensionality of our data. We can use <strong>scree-plots</strong> and <strong>cumulative explained ratio plots</strong> to find the number of components to use in further analyses.</p>\n",
    "<p>Scree-plots display the number of components against the variance explained by each component, sorted in descending order of variance. Scree-plots help us get a better sense of which components explain a sufficient amount of variance in our data. When using scree plots, an 'elbow' (a steep drop from one data point to the next) in the plot is typically used to decide on an appropriate cutoff.</p>"
   ]
  },
  {
   "cell_type": "code",
   "execution_count": 26,
   "metadata": {
    "dc": {
     "key": "24"
    },
    "tags": [
     "sample_code"
    ]
   },
   "outputs": [
    {
     "data": {
      "text/plain": [
       "Text(0.5, 0, 'Principal Component #')"
      ]
     },
     "execution_count": 26,
     "metadata": {},
     "output_type": "execute_result"
    },
    {
     "data": {
      "image/png": "[encoded data removed]",
      "text/plain": [
       "<Figure size 432x288 with 1 Axes>"
      ]
     },
     "metadata": {
      "needs_background": "light"
     },
     "output_type": "display_data"
    }
   ],
   "source": [
    "# This is just to make plots appear in the notebook\n",
    "%matplotlib inline\n",
    "\n",
    "# Get our explained variance ratios from PCA using all features\n",
    "pca = PCA()\n",
    "pca.fit(scaled_train_features)\n",
    "exp_variance = pca.explained_variance_ratio_ \n",
    "\n",
    "# plot the explained variance using a barplot\n",
    "fig, ax = plt.subplots()\n",
    "ax.bar(range(pca.n_components_),exp_variance)\n",
    "ax.set_xlabel('Principal Component #')"
   ]
  },
  {
   "cell_type": "markdown",
   "metadata": {
    "dc": {
     "key": "31"
    },
    "deletable": false,
    "editable": false,
    "run_control": {
     "frozen": true
    },
    "tags": [
     "context"
    ]
   },
   "source": [
    "## 5. Further visualization of PCA\n",
    "<p>Unfortunately, there does not appear to be a clear elbow in this scree plot, which means it is not straightforward to find the number of intrinsic dimensions using this method. </p>\n",
    "<p>But all is not lost! Instead, we can also look at the <strong>cumulative explained variance plot</strong> to determine how many features are required to explain, say, about 85% of the variance (cutoffs are somewhat arbitrary here, and usually decided upon by 'rules of thumb'). Once we determine the appropriate number of components, we can perform PCA with that many components, ideally reducing the dimensionality of our data.</p>"
   ]
  },
  {
   "cell_type": "code",
   "execution_count": 27,
   "metadata": {
    "dc": {
     "key": "31"
    },
    "tags": [
     "sample_code"
    ]
   },
   "outputs": [
    {
     "data": {
      "image/png": "[encoded data removed]",
      "text/plain": [
       "<Figure size 432x288 with 1 Axes>"
      ]
     },
     "metadata": {
      "needs_background": "light"
     },
     "output_type": "display_data"
    }
   ],
   "source": [
    "# Calculate the cumulative explained variance\n",
    "cum_exp_variance = np.cumsum(exp_variance)\n",
    "\n",
    "# Plot the cumulative explained variance and draw a dashed line at 0.90.\n",
    "fig, ax = plt.subplots()\n",
    "ax.plot(cum_exp_variance)\n",
    "ax.axhline(y=0.9, linestyle='--')\n",
    "### Finding indice where cum_exp_variance exceeds 0.9 and adding 1 to that indice to get n_components\n",
    "n_components = ((np.where(cum_exp_variance > 0.9))[0][0]) \n",
    "\n",
    "\n",
    "# Perform PCA with the chosen number of components and project data onto components\n",
    "pca = PCA(n_components, random_state=10)\n",
    "pca.fit(scaled_train_features)\n",
    "pca_projection = pca.transform(scaled_train_features)"
   ]
  },
  {
   "cell_type": "markdown",
   "metadata": {
    "dc": {
     "key": "38"
    },
    "deletable": false,
    "editable": false,
    "run_control": {
     "frozen": true
    },
    "tags": [
     "context"
    ]
   },
   "source": [
    "## 6. Train a decision tree to classify genre\n",
    "<p>Now we can use the lower dimensional PCA projection of the data to classify songs into genres. To do that, we first need to split our dataset into 'train' and 'test' subsets, where the 'train' subset will be used to train our model while the 'test' dataset allows for model performance validation.</p>\n",
    "<p>Here, we will be using a simple algorithm known as a decision tree. Decision trees are rule-based classifiers that take in features and follow a 'tree structure' of binary decisions to ultimately classify a data point into one of two or more categories. In addition to being easy to both use and interpret, decision trees allow us to visualize the 'logic flowchart' that the model generates from the training data.</p>\n",
    "<p>Here is an example of a decision tree that demonstrates the process by which an input image (in this case, of a shape) might be classified based on the number of sides it has and whether it is rotated.</p>\n",
    "<p><img src=\"https://assets.datacamp.com/production/project_449/img/simple_decision_tree.png\" alt=\"Decision Tree Flow Chart Example\" width=\"350px\"></p>"
   ]
  },
  {
   "cell_type": "code",
   "execution_count": 28,
   "metadata": {
    "dc": {
     "key": "38"
    },
    "tags": [
     "sample_code"
    ]
   },
   "outputs": [],
   "source": [
    "# Split our data\n",
    "train_features, test_features, train_labels, test_labels = train_test_split(pca_projection, labels,random_state=10)\n",
    "\n",
    "# Train our decision tree\n",
    "tree = DecisionTreeClassifier(random_state=10)\n",
    "tree.fit(train_features,train_labels)\n",
    "\n",
    "# Predict the labels for the test data\n",
    "pred_labels_tree = tree.predict(test_features)"
   ]
  },
  {
   "cell_type": "markdown",
   "metadata": {
    "dc": {
     "key": "45"
    },
    "deletable": false,
    "editable": false,
    "run_control": {
     "frozen": true
    },
    "tags": [
     "context"
    ]
   },
   "source": [
    "## 7. Compare our decision tree to a logistic regression\n",
    "<p>Although our tree's performance is decent, it's a bad idea to immediately assume that it's therefore the perfect tool for this job -- there's always the possibility of other models that will perform even better! It's always a worthwhile idea to at least test a few other algorithms and find the one that's best for our data.</p>\n",
    "<p>Sometimes simplest is best, and so we will start by applying <strong>logistic regression</strong>. Logistic regression makes use of what's called the logistic function to calculate the odds that a given data point belongs to a given class. Once we have both models, we can compare them on a few performance metrics, such as false positive and false negative rate (or how many points are inaccurately classified). </p>"
   ]
  },
  {
   "cell_type": "code",
   "execution_count": 29,
   "metadata": {
    "dc": {
     "key": "45"
    },
    "tags": [
     "sample_code"
    ]
   },
   "outputs": [
    {
     "name": "stdout",
     "output_type": "stream",
     "text": [
      "Training time (Serial): 0.033003807067871094[s]\n",
      "Training time (Parallel): 2.645684003829956[s]\n",
      "\n",
      "Decision Tree: \n",
      "               precision    recall  f1-score   support\n",
      "\n",
      "     Hip-Hop       0.60      0.60      0.60       235\n",
      "        Rock       0.90      0.90      0.90       966\n",
      "\n",
      "    accuracy                           0.84      1201\n",
      "   macro avg       0.75      0.75      0.75      1201\n",
      "weighted avg       0.84      0.84      0.84      1201\n",
      "\n",
      "Logistic Regression: \n",
      "               precision    recall  f1-score   support\n",
      "\n",
      "     Hip-Hop       0.79      0.51      0.62       235\n",
      "        Rock       0.89      0.97      0.93       966\n",
      "\n",
      "    accuracy                           0.88      1201\n",
      "   macro avg       0.84      0.74      0.77      1201\n",
      "weighted avg       0.87      0.88      0.87      1201\n",
      "\n"
     ]
    }
   ],
   "source": [
    "# Train our logistic regression and predict labels for the test set\n",
    "\n",
    "#Clasificador serial#\n",
    "logreg = LogisticRegression(C=0.01)\n",
    "start_time = time.time()\n",
    "logreg.fit(train_features,train_labels)\n",
    "print(\"Training time (Serial): {}[s]\".format(time.time()-start_time))\n",
    "pred_labels_logit = logreg.predict(test_features)\n",
    "\n",
    "#Clasificador paralelo n=2#\n",
    "logreg2 = LogisticRegression(C=0.01, n_jobs=4)\n",
    "start_time = time.time()\n",
    "logreg2.fit(train_features,train_labels)\n",
    "print(\"Training time (Parallel): {}[s]\".format(time.time()-start_time))\n",
    "pred_labels_logit = logreg2.predict(test_features)\n",
    "\n",
    "class_rep_tree = classification_report(test_labels,pred_labels_tree)\n",
    "class_rep_log = classification_report(test_labels,pred_labels_logit)\n",
    "\n",
    "print(\"\\nDecision Tree: \\n\", class_rep_tree)\n",
    "print(\"Logistic Regression: \\n\", class_rep_log)"
   ]
  },
  {
   "cell_type": "markdown",
   "metadata": {
    "dc": {
     "key": "52"
    },
    "deletable": false,
    "editable": false,
    "run_control": {
     "frozen": true
    },
    "tags": [
     "context"
    ]
   },
   "source": [
    "## 8. Balance our data for greater performance\n",
    "<p>Both our models do similarly well, boasting an average precision of 87% each. However, looking at our classification report, we can see that rock songs are fairly well classified, but hip-hop songs are disproportionately misclassified as rock songs. </p>\n",
    "<p>Why might this be the case? Well, just by looking at the number of data points we have for each class, we see that we have far more data points for the rock classification than for hip-hop, potentially skewing our model's ability to distinguish between classes. This also tells us that most of our model's accuracy is driven by its ability to classify just rock songs, which is less than ideal.</p>\n",
    "<p>To account for this, we can weight the value of a correct classification in each class inversely to the occurrence of data points for each class. Since a correct classification for \"Rock\" is not more important than a correct classification for \"Hip-Hop\" (and vice versa), we only need to account for differences in <em>sample size</em> of our data points when weighting our classes here, and not relative importance of each class. </p>"
   ]
  },
  {
   "cell_type": "code",
   "execution_count": 30,
   "metadata": {
    "dc": {
     "key": "52"
    },
    "tags": [
     "sample_code"
    ]
   },
   "outputs": [],
   "source": [
    "# Subset only the hip-hop tracks, and then only the rock tracks\n",
    "hop_only = echo_tracks.loc[echo_tracks['genre_top'] == 'Hip-Hop']\n",
    "rock_only = echo_tracks.loc[echo_tracks['genre_top'] == 'Rock']\n",
    "\n",
    "\n",
    "# sample the rocks songs to be the same number as there are hip-hop songs\n",
    "rock_only = rock_only.sample(n=len(hop_only),random_state=10)\n",
    "\n",
    "\n",
    "# concatenate the dataframes rock_only and hop_only\n",
    "rock_hop_bal = pd.concat([hop_only,rock_only])\n",
    "\n",
    "# The features, labels, and pca projection are created for the balanced dataframe\n",
    "features = rock_hop_bal.drop(['genre_top', 'track_id'], axis=1) \n",
    "labels = rock_hop_bal['genre_top']\n",
    "pca_projection = pca.fit_transform(scaler.fit_transform(features))\n",
    "\n",
    "# Redefine the train and test set with the pca_projection from the balanced data\n",
    "train_features, test_features, train_labels, test_labels = train_test_split(features, labels, random_state=10)"
   ]
  },
  {
   "cell_type": "markdown",
   "metadata": {
    "dc": {
     "key": "59"
    },
    "deletable": false,
    "editable": false,
    "run_control": {
     "frozen": true
    },
    "tags": [
     "context"
    ]
   },
   "source": [
    "## 9. Does balancing our dataset improve model bias?\n",
    "<p>We've now balanced our dataset, but in doing so, we've removed a lot of data points that might have been crucial to training our models. Let's test to see if balancing our data improves model bias towards the \"Rock\" classification while retaining overall classification performance. </p>\n",
    "<p>Note that we have already reduced the size of our dataset and will go forward without applying any dimensionality reduction. In practice, we would consider dimensionality reduction more rigorously when dealing with vastly large datasets and when computation times become prohibitively large.</p>"
   ]
  },
  {
   "cell_type": "code",
   "execution_count": 31,
   "metadata": {
    "dc": {
     "key": "59"
    },
    "tags": [
     "sample_code"
    ]
   },
   "outputs": [
    {
     "name": "stdout",
     "output_type": "stream",
     "text": [
      "Training time (Serial): 0.05495285987854004[s]\n",
      "Training time (Parallel): 2.584693193435669[s]\n",
      "Decision Tree: \n",
      "               precision    recall  f1-score   support\n",
      "\n",
      "     Hip-Hop       0.82      0.88      0.85       225\n",
      "        Rock       0.87      0.82      0.84       230\n",
      "\n",
      "    accuracy                           0.85       455\n",
      "   macro avg       0.85      0.85      0.85       455\n",
      "weighted avg       0.85      0.85      0.85       455\n",
      "\n",
      "Logistic Regression: \n",
      "               precision    recall  f1-score   support\n",
      "\n",
      "     Hip-Hop       0.75      0.76      0.75       225\n",
      "        Rock       0.76      0.75      0.75       230\n",
      "\n",
      "    accuracy                           0.75       455\n",
      "   macro avg       0.75      0.75      0.75       455\n",
      "weighted avg       0.75      0.75      0.75       455\n",
      "\n"
     ]
    }
   ],
   "source": [
    "# Train our decision tree on the balanced data\n",
    "tree = DecisionTreeClassifier()\n",
    "tree.fit(train_features, train_labels)\n",
    "pred_labels_tree = tree.predict(test_features)\n",
    "\n",
    "# Train our logistic regression on the balanced data\n",
    "#Serial#\n",
    "logreg = LogisticRegression(random_state=10, C=0.01)\n",
    "start_time = time.time()\n",
    "logreg.fit(train_features, train_labels)\n",
    "print(\"Training time (Serial): {}[s]\".format(time.time()-start_time))\n",
    "pred_labels_logit = logreg.predict(test_features)\n",
    "\n",
    "#Parallel#\n",
    "logreg2 = LogisticRegression(random_state=10, C=0.01, n_jobs=2)\n",
    "start_time = time.time()\n",
    "logreg2.fit(train_features, train_labels)\n",
    "print(\"Training time (Parallel): {}[s]\".format(time.time()-start_time))\n",
    "pred_labels_logit = logreg2.predict(test_features)\n",
    "\n",
    "# Compare the models\n",
    "print(\"Decision Tree: \\n\", classification_report(test_labels, pred_labels_tree))\n",
    "print(\"Logistic Regression: \\n\", classification_report(test_labels, pred_labels_logit))"
   ]
  },
  {
   "cell_type": "markdown",
   "metadata": {
    "dc": {
     "key": "66"
    },
    "deletable": false,
    "editable": false,
    "run_control": {
     "frozen": true
    },
    "tags": [
     "context"
    ]
   },
   "source": [
    "## 10. Using cross-validation to evaluate our models\n",
    "<p>Success! Balancing our data has removed bias towards the more prevalent class. To get a good sense of how well our models are actually performing, we can apply what's called <strong>cross-validation</strong> (CV). This step allows us to compare models in a more rigorous fashion.</p>\n",
    "<p>Since the way our data is split into train and test sets can impact model performance, CV attempts to split the data multiple ways and test the model on each of the splits. Although there are many different CV methods, all with their own advantages and disadvantages, we will use what's known as <strong>K-fold</strong> CV here. K-fold first splits the data into K different, equally sized subsets. Then, it iteratively uses each subset as a test set while using the remainder of the data as train sets. Finally, we can then aggregate the results from each fold for a final model performance score.</p>"
   ]
  },
  {
   "cell_type": "code",
   "execution_count": 32,
   "metadata": {
    "dc": {
     "key": "66"
    },
    "tags": [
     "sample_code"
    ]
   },
   "outputs": [
    {
     "name": "stderr",
     "output_type": "stream",
     "text": [
      "C:\\ProgramData\\Anaconda3\\lib\\site-packages\\sklearn\\model_selection\\_split.py:293: FutureWarning: Setting a random_state has no effect since shuffle is False. This will raise an error in 0.24. You should leave random_state to its default (None), or set shuffle=True.\n",
      "  warnings.warn(\n"
     ]
    },
    {
     "name": "stdout",
     "output_type": "stream",
     "text": [
      "Decision Tree: 0.7489010989010989 Logistic Regression: 0.782967032967033\n"
     ]
    }
   ],
   "source": [
    "# Set up our K-fold cross-validation\n",
    "kf = KFold(n_splits=10,random_state=10)\n",
    "\n",
    "tree = DecisionTreeClassifier(random_state=10)\n",
    "logreg = LogisticRegression(random_state=10)\n",
    "\n",
    "# Train our models using KFold cv\n",
    "tree_score = cross_val_score(tree,pca_projection,labels,cv=kf)\n",
    "logit_score = cross_val_score(logreg,pca_projection,labels,cv=kf)\n",
    "\n",
    "# Print the mean of each array of scores\n",
    "print(\"Decision Tree:\", np.mean(tree_score), \"Logistic Regression:\", np.mean(logit_score))"
   ]
  },
  {
   "cell_type": "markdown",
   "metadata": {},
   "source": [
    "## Implementación de Logistic Regression"
   ]
  },
  {
   "cell_type": "code",
   "execution_count": 33,
   "metadata": {},
   "outputs": [],
   "source": [
    "from hklearn import LogisticRegression"
   ]
  },
  {
   "cell_type": "markdown",
   "metadata": {},
   "source": [
    "#### Dataset desbalanceado"
   ]
  },
  {
   "cell_type": "code",
   "execution_count": 34,
   "metadata": {},
   "outputs": [],
   "source": [
    "logistic_model_s = LogisticRegression(C = 0.01, maxiter = 100, solver = 'lbfgs')\n",
    "logistic_model_p = LogisticRegression(C = 0.01, maxiter = 100, n_jobs = 10, solver = 'lbfgs')"
   ]
  },
  {
   "cell_type": "code",
   "execution_count": 35,
   "metadata": {},
   "outputs": [
    {
     "data": {
      "text/plain": [
       "<hklearn.LogisticRegression at 0x134f66a03d0>"
      ]
     },
     "execution_count": 35,
     "metadata": {},
     "output_type": "execute_result"
    }
   ],
   "source": [
    "logistic_model_s"
   ]
  },
  {
   "cell_type": "code",
   "execution_count": 36,
   "metadata": {},
   "outputs": [],
   "source": [
    "# Define our features \n",
    "features = [feature for feature in echo_tracks.columns if feature not in ['track_id', 'genre_top']]\n",
    "# Define our labels\n",
    "labels = echo_tracks['genre_top']\n",
    "# Scale the features and set the values to a new variable\n",
    "scaler = StandardScaler()\n",
    "scaled_train_features = scaler.fit_transform(echo_tracks[features])\n",
    "# Perform PCA with the chosen number of components and project data onto components\n",
    "pca = PCA(n_components, random_state=10)\n",
    "pca.fit(scaled_train_features)\n",
    "pca_projection = pca.transform(scaled_train_features)"
   ]
  },
  {
   "cell_type": "code",
   "execution_count": 37,
   "metadata": {},
   "outputs": [
    {
     "data": {
      "text/plain": [
       "array([[-0.95266429, -0.992442  ,  1.71990072,  2.03935977, -2.12491957,\n",
       "        -2.55889544],\n",
       "       [-1.15095721,  0.80694253, -0.13890926, -1.34949295, -0.78328003,\n",
       "         0.23619909],\n",
       "       [ 1.4912024 ,  1.42512003, -0.74164056, -1.35612061,  0.01375132,\n",
       "         0.0477835 ],\n",
       "       ...,\n",
       "       [-0.28608581, -0.28381699,  0.27840407, -0.83244213, -0.67926142,\n",
       "         1.3855388 ],\n",
       "       [-0.75616999,  1.26969101, -0.1924908 , -0.0593008 ,  0.42914997,\n",
       "         0.09076763],\n",
       "       [-2.26885604, -0.18210011,  0.17527316,  1.40597346, -0.68577802,\n",
       "         0.37850736]])"
      ]
     },
     "execution_count": 37,
     "metadata": {},
     "output_type": "execute_result"
    }
   ],
   "source": [
    "# Split our data\n",
    "train_features, test_features, train_labels, test_labels = train_test_split(pca_projection, labels,random_state=10)\n",
    "train_features"
   ]
  },
  {
   "cell_type": "code",
   "execution_count": 38,
   "metadata": {},
   "outputs": [
    {
     "name": "stdout",
     "output_type": "stream",
     "text": [
      "Training time (Serial): 0.02901911735534668[s]\n"
     ]
    }
   ],
   "source": [
    "start_time = time.time()\n",
    "logistic_model_s.fit(train_features, train_labels)\n",
    "print(\"Training time (Serial): {}[s]\".format(time.time()-start_time))\n",
    "y_pred = logistic_model_s.predict(test_features)"
   ]
  },
  {
   "cell_type": "code",
   "execution_count": 39,
   "metadata": {},
   "outputs": [
    {
     "name": "stdout",
     "output_type": "stream",
     "text": [
      "Logistic Regression: \n",
      "               precision    recall  f1-score   support\n",
      "\n",
      "     Hip-Hop       0.79      0.51      0.62       235\n",
      "        Rock       0.89      0.97      0.93       966\n",
      "\n",
      "    accuracy                           0.88      1201\n",
      "   macro avg       0.84      0.74      0.77      1201\n",
      "weighted avg       0.87      0.88      0.87      1201\n",
      "\n",
      "[[119 116]\n",
      " [ 31 935]]\n"
     ]
    }
   ],
   "source": [
    "print(\"Logistic Regression: \\n\", classification_report(test_labels, y_pred))\n",
    "print(confusion_matrix(test_labels, y_pred))"
   ]
  },
  {
   "cell_type": "markdown",
   "metadata": {},
   "source": [
    "#### Dataset balanceado"
   ]
  },
  {
   "cell_type": "code",
   "execution_count": null,
   "metadata": {},
   "outputs": [],
   "source": []
  },
  {
   "cell_type": "code",
   "execution_count": null,
   "metadata": {},
   "outputs": [],
   "source": []
  }
 ],
 "metadata": {
  "kernelspec": {
   "display_name": "Python 3",
   "language": "python",
   "name": "python3"
  },
  "language_info": {
   "codemirror_mode": {
    "name": "ipython",
    "version": 3
   },
   "file_extension": ".py",
   "mimetype": "text/x-python",
   "name": "python",
   "nbconvert_exporter": "python",
   "pygments_lexer": "ipython3",
   "version": "3.8.3"
  }
 },
 "nbformat": 4,
 "nbformat_minor": 4
}
